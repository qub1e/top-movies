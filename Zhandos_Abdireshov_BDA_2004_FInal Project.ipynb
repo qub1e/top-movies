{
 "cells": [
  {
   "cell_type": "markdown",
   "id": "fa6b17da",
   "metadata": {},
   "source": [
    "# Final project\n",
    "\n",
    "\n",
    "## Description:\n",
    "This is individual project that requires work with a dataset to produce a series of data preparation, visualizations and analysis using Python.\n",
    "\n",
    "\n",
    "This project will go as your Final Exam mark, i.e. will weight **40%** of total mark for the course.\n",
    "\n"
   ]
  },
  {
   "cell_type": "markdown",
   "id": "e26e74f6",
   "metadata": {},
   "source": [
    "## Parts of the project\n",
    "1. Dataset - firstly you need to select dataset of your interest, it can be any dataset from the web. \n",
    "\n",
    "\n",
    "2. Introduction - give some background information about your project and dataset. Describe briefly what you want to do in your analysis. \n",
    "\n",
    "\n",
    "3. Data description - provide information about your dataset, size of it, and description of the columns.\n",
    "\n",
    "\n",
    "4. Research questions - create at least 5 interseting questions that you will need to answer using data visualisation. Note that questions should not be similar. \n",
    "\n",
    "\n",
    "5. Data prepartion - cleaning, shaping, manipulation with the data that you have. \n",
    "\n",
    "\n",
    "6. Data Analysis and Visualisation - you need to answer questions you prepared using different charts.\\\n",
    "\n",
    "\n",
    "7. Conclusion - write conclusion for all of your findings.\n",
    "\n",
    "\n",
    "8. Data modelling - if you want you can apply some Machine Learning model to your data. It should be proper application ***(for bonus points)***.\n",
    "\n",
    "\n",
    "9. Defense - during the final exam weeks you will need to defense your project in front of your lecturer/practice teacher. "
   ]
  },
  {
   "cell_type": "markdown",
   "id": "7e75b62f",
   "metadata": {},
   "source": [
    "## Project data examples \n",
    "  - Proper datasets from https://www.kaggle.com/datasets\n",
    "  - Financial datasets from https://quandl.com\n",
    "  - Yelp academic dataset https://www.yelp.com/dataset \n",
    "  - MovieLens dataset from https://grouplens.org/datasets/movielens/\n",
    "  - others sources will be fine as long as dataset is good\n",
    "  \n",
    "  \n",
    "**Note:** The same dataset should not be selected too many times within groups (wait for instructions from your teachers)."
   ]
  },
  {
   "cell_type": "markdown",
   "id": "6e45e883",
   "metadata": {},
   "source": [
    "## General approach for the project\n",
    "1. Select interesting dataset. Make sure it is complecated enough, i.e. it has range of features/parameters/columns that you can use for analysis, and make sure it is not too small.\n",
    "\n",
    "\n",
    "2. Try to come up with some research questions based on the selected dataset. Make sure that your dataset allows to answer that questions. However, if you can't create suitable questions for your dataset, we recommend to switch the dataset. Also, it might be helpful to think about your questions when you are at the stage of dataset selection. \n",
    "\n",
    "\n",
    "3. Introduction, Data description, Research questions, Conclusion are mainly wording parts of the project, which you need to do using Markdown.\n",
    "\n",
    "\n",
    "4. Data prepartion, Data analysis and visualisation, Data modelling are mainly coding parts of the project. For Data preparation you mainly need to apply pandas. For Analysis part you can have combination of pandas and matplotlib (or any other library for visualisation). For Modelling part you will need to use scikit-learn (sklearn) library, and you will get bonus points if you implement that properly.\n",
    "\n",
    "\n",
    "5. Keep in mind that you should do that project on your own. And during the defense there will be questions from instructors, depending on them you will get defense marks. \n",
    "\n",
    "\n",
    "6. Note that plagiarism will lead to **FAIL.**"
   ]
  },
  {
   "cell_type": "markdown",
   "id": "7d9d7b39",
   "metadata": {},
   "source": [
    "## Tips / Recommendations\n",
    "+ Make sure you have good structure and well organized notebook (it is going to be marked).\n",
    "\n",
    "\n",
    "+ Please describe the steps that you do as a markdown before you code it, and give comments with \"#\" if you are writing complex code (without comments it is difficult to understand your code).\n",
    "\n",
    "\n",
    "+ For Data Analysis section, use subsections as Q1: (state it), Q2: (state it), Q3: (state it) ... (see example below)\n",
    "\n",
    "\n",
    "+ On figures, make sure you have a title, axis labels, legend, also you have appropriate coloring, figure size, text size and other styling parts.\n",
    "\n",
    "\n",
    "+ Don't forget to write down about your findings from figures.\n",
    "\n",
    "\n",
    "+ To answer some questions you might need to use little data preparation (for example, apply filtering or groupby or sroting). Do them within Data Analysis section, specifically, within the question that you trying to answer. However, if your visualisation library does not require any data preparation (for example, seaborn does not need groupby to be used for countplot), but you feel that your data preparation section is not so good, then I recommend you to use different methods for data preparation within some questions. For example, you can use groupby method to show some numbers in the form of tables, but visualise it using seaborn.\n",
    "\n",
    "\n",
    "+ Overall, be creative, apply knowledge you get during the course (but not limited to it) and just keep working on your own project, and you will succeed!\n",
    "\n"
   ]
  },
  {
   "cell_type": "markdown",
   "id": "57768591",
   "metadata": {},
   "source": [
    "# Example structure"
   ]
  },
  {
   "cell_type": "markdown",
   "id": "eb9b3511",
   "metadata": {},
   "source": [
    "## 1. Introduction\n",
    "My project is about popular movies around the world, so I've chosen the dataset from kaggle, Top 10.000 Popular Movies(link: https://www.kaggle.com/omkarborikar/top-10000-popular-movies). In my project, I would like to know the most popular movies in different languages, popular movies of every decades, popular and non-popular genres, dependence of columns between each other, and I would like to do this using pandas, numpy, seaborn and matplotlib libraries."
   ]
  },
  {
   "cell_type": "markdown",
   "id": "9ae4e004",
   "metadata": {},
   "source": [
    "## 2. Data description\n",
    "My dataset is about 10.000 popular movies. This dataset has 10.000 rows and 9 columns(id,original_language,original_title,popularity,release_date,vote_average,vote_count,genre,overview). Very important columns for me are id, original_language, popularity, release_date and vote_average, vote_count and genre. I think only two columns are not clear, so vote_average is column of critics' average vote, and vote_count is in total, how many votes for any movie."
   ]
  },
  {
   "cell_type": "markdown",
   "id": "58dc4602",
   "metadata": {},
   "source": [
    "## 3. Research question\n",
    "1)Plot a barchart of count of films for every language\n",
    "\n",
    "2)Find outliers for vote counts.\n",
    "\n",
    "3)Plot two barcharts in the same figure. For one of them get number of vote_average, and for another get vote_count.\n",
    "\n",
    "4)Find the correlation between popularity, vote_count and vote_average\n",
    "\n",
    "5)Find the most popular movies by their language and find popular movies of every decade of 21st century. Plot it into two barcharts\n",
    "\n",
    "6)Find less popular movies of every decade in 20th century\n",
    "\n",
    "7)Find out in which month movies are most often released\n",
    "\n",
    "8)Count the number of genres and plot it\n",
    "\n",
    "9)Find the most popular movie of 'Comedy' genre of every language"
   ]
  },
  {
   "cell_type": "markdown",
   "id": "0ff73443",
   "metadata": {},
   "source": [
    "## 4. Data preparation"
   ]
  },
  {
   "cell_type": "code",
   "execution_count": 1,
   "id": "7fb37081",
   "metadata": {},
   "outputs": [
    {
     "data": {
      "text/html": [
       "<div>\n",
       "<style scoped>\n",
       "    .dataframe tbody tr th:only-of-type {\n",
       "        vertical-align: middle;\n",
       "    }\n",
       "\n",
       "    .dataframe tbody tr th {\n",
       "        vertical-align: top;\n",
       "    }\n",
       "\n",
       "    .dataframe thead th {\n",
       "        text-align: right;\n",
       "    }\n",
       "</style>\n",
       "<table border=\"1\" class=\"dataframe\">\n",
       "  <thead>\n",
       "    <tr style=\"text-align: right;\">\n",
       "      <th></th>\n",
       "      <th>id</th>\n",
       "      <th>original_language</th>\n",
       "      <th>original_title</th>\n",
       "      <th>popularity</th>\n",
       "      <th>release_date</th>\n",
       "      <th>vote_average</th>\n",
       "      <th>vote_count</th>\n",
       "      <th>genre</th>\n",
       "      <th>overview</th>\n",
       "    </tr>\n",
       "  </thead>\n",
       "  <tbody>\n",
       "    <tr>\n",
       "      <th>0</th>\n",
       "      <td>580489</td>\n",
       "      <td>en</td>\n",
       "      <td>Venom: Let There Be Carnage</td>\n",
       "      <td>5401.308</td>\n",
       "      <td>2021-09-30</td>\n",
       "      <td>6.8</td>\n",
       "      <td>1736</td>\n",
       "      <td>['Science Fiction', 'Action', 'Adventure']</td>\n",
       "      <td>After finding a host body in investigative rep...</td>\n",
       "    </tr>\n",
       "    <tr>\n",
       "      <th>1</th>\n",
       "      <td>524434</td>\n",
       "      <td>en</td>\n",
       "      <td>Eternals</td>\n",
       "      <td>3365.535</td>\n",
       "      <td>2021-11-03</td>\n",
       "      <td>7.1</td>\n",
       "      <td>622</td>\n",
       "      <td>['Action', 'Adventure', 'Science Fiction', 'Fa...</td>\n",
       "      <td>The Eternals are a team of ancient aliens who ...</td>\n",
       "    </tr>\n",
       "    <tr>\n",
       "      <th>2</th>\n",
       "      <td>438631</td>\n",
       "      <td>en</td>\n",
       "      <td>Dune</td>\n",
       "      <td>2911.423</td>\n",
       "      <td>2021-09-15</td>\n",
       "      <td>8.0</td>\n",
       "      <td>3632</td>\n",
       "      <td>['Action', 'Adventure', 'Science Fiction']</td>\n",
       "      <td>Paul Atreides, a brilliant and gifted young ma...</td>\n",
       "    </tr>\n",
       "    <tr>\n",
       "      <th>3</th>\n",
       "      <td>796499</td>\n",
       "      <td>en</td>\n",
       "      <td>Army of Thieves</td>\n",
       "      <td>2552.437</td>\n",
       "      <td>2021-10-27</td>\n",
       "      <td>6.9</td>\n",
       "      <td>555</td>\n",
       "      <td>['Action', 'Crime', 'Thriller']</td>\n",
       "      <td>A mysterious woman recruits bank teller Ludwig...</td>\n",
       "    </tr>\n",
       "    <tr>\n",
       "      <th>4</th>\n",
       "      <td>550988</td>\n",
       "      <td>en</td>\n",
       "      <td>Free Guy</td>\n",
       "      <td>1850.470</td>\n",
       "      <td>2021-08-11</td>\n",
       "      <td>7.8</td>\n",
       "      <td>3493</td>\n",
       "      <td>['Comedy', 'Action', 'Adventure', 'Science Fic...</td>\n",
       "      <td>A bank teller called Guy realizes he is a back...</td>\n",
       "    </tr>\n",
       "  </tbody>\n",
       "</table>\n",
       "</div>"
      ],
      "text/plain": [
       "       id original_language               original_title  popularity  \\\n",
       "0  580489                en  Venom: Let There Be Carnage    5401.308   \n",
       "1  524434                en                     Eternals    3365.535   \n",
       "2  438631                en                         Dune    2911.423   \n",
       "3  796499                en              Army of Thieves    2552.437   \n",
       "4  550988                en                     Free Guy    1850.470   \n",
       "\n",
       "  release_date  vote_average  vote_count  \\\n",
       "0   2021-09-30           6.8        1736   \n",
       "1   2021-11-03           7.1         622   \n",
       "2   2021-09-15           8.0        3632   \n",
       "3   2021-10-27           6.9         555   \n",
       "4   2021-08-11           7.8        3493   \n",
       "\n",
       "                                               genre  \\\n",
       "0         ['Science Fiction', 'Action', 'Adventure']   \n",
       "1  ['Action', 'Adventure', 'Science Fiction', 'Fa...   \n",
       "2         ['Action', 'Adventure', 'Science Fiction']   \n",
       "3                    ['Action', 'Crime', 'Thriller']   \n",
       "4  ['Comedy', 'Action', 'Adventure', 'Science Fic...   \n",
       "\n",
       "                                            overview  \n",
       "0  After finding a host body in investigative rep...  \n",
       "1  The Eternals are a team of ancient aliens who ...  \n",
       "2  Paul Atreides, a brilliant and gifted young ma...  \n",
       "3  A mysterious woman recruits bank teller Ludwig...  \n",
       "4  A bank teller called Guy realizes he is a back...  "
      ]
     },
     "execution_count": 1,
     "metadata": {},
     "output_type": "execute_result"
    }
   ],
   "source": [
    "import pandas as pd\n",
    "import matplotlib.pyplot as plt\n",
    "import numpy as np\n",
    "import seaborn as sb\n",
    "import datetime as dt\n",
    "df = pd.read_csv('ttm.csv',lineterminator='\\n')\n",
    "df.pop(\"revenue\")\n",
    "df.pop(\"runtime\")\n",
    "df.pop(\"tagline\")\n",
    "df.pop(\"Unnamed: 0\")\n",
    "df.head()"
   ]
  },
  {
   "cell_type": "code",
   "execution_count": 2,
   "id": "ccdf8444",
   "metadata": {},
   "outputs": [
    {
     "data": {
      "text/plain": [
       "(10000, 9)"
      ]
     },
     "execution_count": 2,
     "metadata": {},
     "output_type": "execute_result"
    }
   ],
   "source": [
    "df.shape"
   ]
  },
  {
   "cell_type": "code",
   "execution_count": 3,
   "id": "5f8616c0",
   "metadata": {},
   "outputs": [
    {
     "data": {
      "text/plain": [
       "id                     int64\n",
       "original_language     object\n",
       "original_title        object\n",
       "popularity           float64\n",
       "release_date          object\n",
       "vote_average         float64\n",
       "vote_count             int64\n",
       "genre                 object\n",
       "overview              object\n",
       "dtype: object"
      ]
     },
     "execution_count": 3,
     "metadata": {},
     "output_type": "execute_result"
    }
   ],
   "source": [
    "df.dtypes"
   ]
  },
  {
   "cell_type": "code",
   "execution_count": 4,
   "id": "80d98016",
   "metadata": {},
   "outputs": [
    {
     "data": {
      "text/html": [
       "<div>\n",
       "<style scoped>\n",
       "    .dataframe tbody tr th:only-of-type {\n",
       "        vertical-align: middle;\n",
       "    }\n",
       "\n",
       "    .dataframe tbody tr th {\n",
       "        vertical-align: top;\n",
       "    }\n",
       "\n",
       "    .dataframe thead th {\n",
       "        text-align: right;\n",
       "    }\n",
       "</style>\n",
       "<table border=\"1\" class=\"dataframe\">\n",
       "  <thead>\n",
       "    <tr style=\"text-align: right;\">\n",
       "      <th></th>\n",
       "      <th>id</th>\n",
       "      <th>popularity</th>\n",
       "      <th>vote_average</th>\n",
       "      <th>vote_count</th>\n",
       "    </tr>\n",
       "  </thead>\n",
       "  <tbody>\n",
       "    <tr>\n",
       "      <th>count</th>\n",
       "      <td>10000.0000</td>\n",
       "      <td>10000.000000</td>\n",
       "      <td>10000.00000</td>\n",
       "      <td>10000.000000</td>\n",
       "    </tr>\n",
       "    <tr>\n",
       "      <th>mean</th>\n",
       "      <td>250053.0833</td>\n",
       "      <td>34.516871</td>\n",
       "      <td>6.29875</td>\n",
       "      <td>1315.084900</td>\n",
       "    </tr>\n",
       "    <tr>\n",
       "      <th>std</th>\n",
       "      <td>261734.6183</td>\n",
       "      <td>100.693958</td>\n",
       "      <td>1.43426</td>\n",
       "      <td>2501.899103</td>\n",
       "    </tr>\n",
       "    <tr>\n",
       "      <th>min</th>\n",
       "      <td>5.0000</td>\n",
       "      <td>6.269000</td>\n",
       "      <td>0.00000</td>\n",
       "      <td>0.000000</td>\n",
       "    </tr>\n",
       "    <tr>\n",
       "      <th>25%</th>\n",
       "      <td>11866.7500</td>\n",
       "      <td>11.908000</td>\n",
       "      <td>5.90000</td>\n",
       "      <td>118.000000</td>\n",
       "    </tr>\n",
       "    <tr>\n",
       "      <th>50%</th>\n",
       "      <td>144476.0000</td>\n",
       "      <td>17.488000</td>\n",
       "      <td>6.50000</td>\n",
       "      <td>425.500000</td>\n",
       "    </tr>\n",
       "    <tr>\n",
       "      <th>75%</th>\n",
       "      <td>451485.0000</td>\n",
       "      <td>29.626250</td>\n",
       "      <td>7.10000</td>\n",
       "      <td>1297.250000</td>\n",
       "    </tr>\n",
       "    <tr>\n",
       "      <th>max</th>\n",
       "      <td>893478.0000</td>\n",
       "      <td>5401.308000</td>\n",
       "      <td>9.50000</td>\n",
       "      <td>30184.000000</td>\n",
       "    </tr>\n",
       "  </tbody>\n",
       "</table>\n",
       "</div>"
      ],
      "text/plain": [
       "                id    popularity  vote_average    vote_count\n",
       "count   10000.0000  10000.000000   10000.00000  10000.000000\n",
       "mean   250053.0833     34.516871       6.29875   1315.084900\n",
       "std    261734.6183    100.693958       1.43426   2501.899103\n",
       "min         5.0000      6.269000       0.00000      0.000000\n",
       "25%     11866.7500     11.908000       5.90000    118.000000\n",
       "50%    144476.0000     17.488000       6.50000    425.500000\n",
       "75%    451485.0000     29.626250       7.10000   1297.250000\n",
       "max    893478.0000   5401.308000       9.50000  30184.000000"
      ]
     },
     "execution_count": 4,
     "metadata": {},
     "output_type": "execute_result"
    }
   ],
   "source": [
    "df.describe()"
   ]
  },
  {
   "cell_type": "code",
   "execution_count": 5,
   "id": "0ee7a6eb",
   "metadata": {},
   "outputs": [
    {
     "name": "stdout",
     "output_type": "stream",
     "text": [
      "<class 'pandas.core.frame.DataFrame'>\n",
      "RangeIndex: 10000 entries, 0 to 9999\n",
      "Data columns (total 9 columns):\n",
      " #   Column             Non-Null Count  Dtype  \n",
      "---  ------             --------------  -----  \n",
      " 0   id                 10000 non-null  int64  \n",
      " 1   original_language  10000 non-null  object \n",
      " 2   original_title     10000 non-null  object \n",
      " 3   popularity         10000 non-null  float64\n",
      " 4   release_date       9962 non-null   object \n",
      " 5   vote_average       10000 non-null  float64\n",
      " 6   vote_count         10000 non-null  int64  \n",
      " 7   genre              10000 non-null  object \n",
      " 8   overview           9900 non-null   object \n",
      "dtypes: float64(2), int64(2), object(5)\n",
      "memory usage: 703.2+ KB\n"
     ]
    }
   ],
   "source": [
    "df.info()"
   ]
  },
  {
   "cell_type": "code",
   "execution_count": 6,
   "id": "51dd821d",
   "metadata": {},
   "outputs": [
    {
     "data": {
      "text/plain": [
       "id                     0\n",
       "original_language      0\n",
       "original_title         0\n",
       "popularity             0\n",
       "release_date          38\n",
       "vote_average           0\n",
       "vote_count             0\n",
       "genre                  0\n",
       "overview             100\n",
       "dtype: int64"
      ]
     },
     "execution_count": 6,
     "metadata": {},
     "output_type": "execute_result"
    }
   ],
   "source": [
    "df.isnull().sum()"
   ]
  },
  {
   "cell_type": "code",
   "execution_count": 7,
   "id": "6591cce8",
   "metadata": {},
   "outputs": [
    {
     "data": {
      "text/html": [
       "<div>\n",
       "<style scoped>\n",
       "    .dataframe tbody tr th:only-of-type {\n",
       "        vertical-align: middle;\n",
       "    }\n",
       "\n",
       "    .dataframe tbody tr th {\n",
       "        vertical-align: top;\n",
       "    }\n",
       "\n",
       "    .dataframe thead th {\n",
       "        text-align: right;\n",
       "    }\n",
       "</style>\n",
       "<table border=\"1\" class=\"dataframe\">\n",
       "  <thead>\n",
       "    <tr style=\"text-align: right;\">\n",
       "      <th></th>\n",
       "      <th>id</th>\n",
       "      <th>original_language</th>\n",
       "      <th>original_title</th>\n",
       "      <th>popularity</th>\n",
       "      <th>release_date</th>\n",
       "      <th>vote_average</th>\n",
       "      <th>vote_count</th>\n",
       "      <th>genre</th>\n",
       "    </tr>\n",
       "  </thead>\n",
       "  <tbody>\n",
       "    <tr>\n",
       "      <th>0</th>\n",
       "      <td>580489</td>\n",
       "      <td>en</td>\n",
       "      <td>Venom: Let There Be Carnage</td>\n",
       "      <td>5401.308</td>\n",
       "      <td>2021-09-30</td>\n",
       "      <td>6.8</td>\n",
       "      <td>1736</td>\n",
       "      <td>['Science Fiction', 'Action', 'Adventure']</td>\n",
       "    </tr>\n",
       "    <tr>\n",
       "      <th>1</th>\n",
       "      <td>524434</td>\n",
       "      <td>en</td>\n",
       "      <td>Eternals</td>\n",
       "      <td>3365.535</td>\n",
       "      <td>2021-11-03</td>\n",
       "      <td>7.1</td>\n",
       "      <td>622</td>\n",
       "      <td>['Action', 'Adventure', 'Science Fiction', 'Fa...</td>\n",
       "    </tr>\n",
       "    <tr>\n",
       "      <th>2</th>\n",
       "      <td>438631</td>\n",
       "      <td>en</td>\n",
       "      <td>Dune</td>\n",
       "      <td>2911.423</td>\n",
       "      <td>2021-09-15</td>\n",
       "      <td>8.0</td>\n",
       "      <td>3632</td>\n",
       "      <td>['Action', 'Adventure', 'Science Fiction']</td>\n",
       "    </tr>\n",
       "    <tr>\n",
       "      <th>3</th>\n",
       "      <td>796499</td>\n",
       "      <td>en</td>\n",
       "      <td>Army of Thieves</td>\n",
       "      <td>2552.437</td>\n",
       "      <td>2021-10-27</td>\n",
       "      <td>6.9</td>\n",
       "      <td>555</td>\n",
       "      <td>['Action', 'Crime', 'Thriller']</td>\n",
       "    </tr>\n",
       "    <tr>\n",
       "      <th>4</th>\n",
       "      <td>550988</td>\n",
       "      <td>en</td>\n",
       "      <td>Free Guy</td>\n",
       "      <td>1850.470</td>\n",
       "      <td>2021-08-11</td>\n",
       "      <td>7.8</td>\n",
       "      <td>3493</td>\n",
       "      <td>['Comedy', 'Action', 'Adventure', 'Science Fic...</td>\n",
       "    </tr>\n",
       "  </tbody>\n",
       "</table>\n",
       "</div>"
      ],
      "text/plain": [
       "       id original_language               original_title  popularity  \\\n",
       "0  580489                en  Venom: Let There Be Carnage    5401.308   \n",
       "1  524434                en                     Eternals    3365.535   \n",
       "2  438631                en                         Dune    2911.423   \n",
       "3  796499                en              Army of Thieves    2552.437   \n",
       "4  550988                en                     Free Guy    1850.470   \n",
       "\n",
       "  release_date  vote_average  vote_count  \\\n",
       "0   2021-09-30           6.8        1736   \n",
       "1   2021-11-03           7.1         622   \n",
       "2   2021-09-15           8.0        3632   \n",
       "3   2021-10-27           6.9         555   \n",
       "4   2021-08-11           7.8        3493   \n",
       "\n",
       "                                               genre  \n",
       "0         ['Science Fiction', 'Action', 'Adventure']  \n",
       "1  ['Action', 'Adventure', 'Science Fiction', 'Fa...  \n",
       "2         ['Action', 'Adventure', 'Science Fiction']  \n",
       "3                    ['Action', 'Crime', 'Thriller']  \n",
       "4  ['Comedy', 'Action', 'Adventure', 'Science Fic...  "
      ]
     },
     "execution_count": 7,
     "metadata": {},
     "output_type": "execute_result"
    }
   ],
   "source": [
    "df1 = df.drop(columns = ('overview'), inplace = True)\n",
    "df.head()"
   ]
  },
  {
   "cell_type": "code",
   "execution_count": 8,
   "id": "c44b2022",
   "metadata": {},
   "outputs": [
    {
     "data": {
      "text/plain": [
       "(9962, 8)"
      ]
     },
     "execution_count": 8,
     "metadata": {},
     "output_type": "execute_result"
    }
   ],
   "source": [
    "df.dropna(how = \"any\", inplace = True)\n",
    "df.shape"
   ]
  },
  {
   "cell_type": "code",
   "execution_count": 9,
   "id": "90be63ca",
   "metadata": {},
   "outputs": [
    {
     "data": {
      "text/plain": [
       "id                            int64\n",
       "original_language            object\n",
       "original_title               object\n",
       "popularity                  float64\n",
       "release_date         datetime64[ns]\n",
       "vote_average                float64\n",
       "vote_count                    int64\n",
       "genre                        object\n",
       "dtype: object"
      ]
     },
     "execution_count": 9,
     "metadata": {},
     "output_type": "execute_result"
    }
   ],
   "source": [
    "df['release_date'] = pd.to_datetime(df['release_date'])\n",
    "df.dtypes"
   ]
  },
  {
   "cell_type": "code",
   "execution_count": 10,
   "id": "fb532194",
   "metadata": {},
   "outputs": [
    {
     "data": {
      "text/html": [
       "<div>\n",
       "<style scoped>\n",
       "    .dataframe tbody tr th:only-of-type {\n",
       "        vertical-align: middle;\n",
       "    }\n",
       "\n",
       "    .dataframe tbody tr th {\n",
       "        vertical-align: top;\n",
       "    }\n",
       "\n",
       "    .dataframe thead th {\n",
       "        text-align: right;\n",
       "    }\n",
       "</style>\n",
       "<table border=\"1\" class=\"dataframe\">\n",
       "  <thead>\n",
       "    <tr style=\"text-align: right;\">\n",
       "      <th></th>\n",
       "      <th>id</th>\n",
       "      <th>popularity</th>\n",
       "      <th>vote_average</th>\n",
       "      <th>vote_count</th>\n",
       "    </tr>\n",
       "  </thead>\n",
       "  <tbody>\n",
       "    <tr>\n",
       "      <th>count</th>\n",
       "      <td>9962.000000</td>\n",
       "      <td>9962.000000</td>\n",
       "      <td>9962.000000</td>\n",
       "      <td>9962.000000</td>\n",
       "    </tr>\n",
       "    <tr>\n",
       "      <th>mean</th>\n",
       "      <td>248493.352740</td>\n",
       "      <td>34.533754</td>\n",
       "      <td>6.318320</td>\n",
       "      <td>1320.097169</td>\n",
       "    </tr>\n",
       "    <tr>\n",
       "      <th>std</th>\n",
       "      <td>260793.397647</td>\n",
       "      <td>100.871458</td>\n",
       "      <td>1.392473</td>\n",
       "      <td>2505.347545</td>\n",
       "    </tr>\n",
       "    <tr>\n",
       "      <th>min</th>\n",
       "      <td>5.000000</td>\n",
       "      <td>6.269000</td>\n",
       "      <td>0.000000</td>\n",
       "      <td>0.000000</td>\n",
       "    </tr>\n",
       "    <tr>\n",
       "      <th>25%</th>\n",
       "      <td>11850.500000</td>\n",
       "      <td>11.908000</td>\n",
       "      <td>5.900000</td>\n",
       "      <td>121.000000</td>\n",
       "    </tr>\n",
       "    <tr>\n",
       "      <th>50%</th>\n",
       "      <td>138239.500000</td>\n",
       "      <td>17.484000</td>\n",
       "      <td>6.500000</td>\n",
       "      <td>428.500000</td>\n",
       "    </tr>\n",
       "    <tr>\n",
       "      <th>75%</th>\n",
       "      <td>449732.750000</td>\n",
       "      <td>29.619250</td>\n",
       "      <td>7.100000</td>\n",
       "      <td>1303.750000</td>\n",
       "    </tr>\n",
       "    <tr>\n",
       "      <th>max</th>\n",
       "      <td>893478.000000</td>\n",
       "      <td>5401.308000</td>\n",
       "      <td>9.500000</td>\n",
       "      <td>30184.000000</td>\n",
       "    </tr>\n",
       "  </tbody>\n",
       "</table>\n",
       "</div>"
      ],
      "text/plain": [
       "                  id   popularity  vote_average    vote_count\n",
       "count    9962.000000  9962.000000   9962.000000   9962.000000\n",
       "mean   248493.352740    34.533754      6.318320   1320.097169\n",
       "std    260793.397647   100.871458      1.392473   2505.347545\n",
       "min         5.000000     6.269000      0.000000      0.000000\n",
       "25%     11850.500000    11.908000      5.900000    121.000000\n",
       "50%    138239.500000    17.484000      6.500000    428.500000\n",
       "75%    449732.750000    29.619250      7.100000   1303.750000\n",
       "max    893478.000000  5401.308000      9.500000  30184.000000"
      ]
     },
     "execution_count": 10,
     "metadata": {},
     "output_type": "execute_result"
    }
   ],
   "source": [
    "df.describe()"
   ]
  },
  {
   "cell_type": "markdown",
   "id": "325346ea",
   "metadata": {},
   "source": [
    "## 5. Data analysis and visualisation"
   ]
  },
  {
   "cell_type": "markdown",
   "id": "4fd18f60",
   "metadata": {},
   "source": [
    "### 5.1 Plot a barchart of count of films for every language\n",
    "Here I count the number of films for every language and saved the unique values of language into variable lang_count"
   ]
  },
  {
   "cell_type": "code",
   "execution_count": 11,
   "id": "e5585bf6",
   "metadata": {},
   "outputs": [],
   "source": [
    "lang_id = df.groupby('original_language').id.count()\n",
    "lang_count = df['original_language'].unique()"
   ]
  },
  {
   "cell_type": "code",
   "execution_count": 12,
   "id": "65b569ea",
   "metadata": {},
   "outputs": [
    {
     "data": {
      "text/plain": [
       "Text(0.5, 1.0, 'Number of movies for every language')"
      ]
     },
     "execution_count": 12,
     "metadata": {},
     "output_type": "execute_result"
    },
    {
     "data": {
      "image/png": "[encoded data removed]",
      "text/plain": [
       "<Figure size 1440x720 with 1 Axes>"
      ]
     },
     "metadata": {
      "needs_background": "light"
     },
     "output_type": "display_data"
    }
   ],
   "source": [
    "fig, ax = plt.subplots(figsize=(20,10))\n",
    "output = []\n",
    "for x in sorted(lang_count):\n",
    "    if x not in output:\n",
    "        output.append(x)\n",
    "        \n",
    "ax.bar(output, lang_id)\n",
    "ax.set(xlabel='languages', ylabel='number of films')\n",
    "plt.title('Number of movies for every language')"
   ]
  },
  {
   "cell_type": "markdown",
   "id": "adc9bd38",
   "metadata": {},
   "source": [
    "A lot of films in English language."
   ]
  },
  {
   "cell_type": "markdown",
   "id": "e5b5bf7f",
   "metadata": {},
   "source": [
    "### 5.2 Find outliers for vote counts.\n",
    "I have sorted my vote_count column to do outliers"
   ]
  },
  {
   "cell_type": "code",
   "execution_count": 13,
   "id": "e2654603",
   "metadata": {},
   "outputs": [],
   "source": [
    "outliers = df['vote_count'].sort_values()"
   ]
  },
  {
   "cell_type": "code",
   "execution_count": 14,
   "id": "cd3aac95",
   "metadata": {},
   "outputs": [
    {
     "name": "stderr",
     "output_type": "stream",
     "text": [
      "C:\\Users\\abdre\\anaconda3\\lib\\site-packages\\seaborn\\_decorators.py:36: FutureWarning: Pass the following variable as a keyword arg: x. From version 0.12, the only valid positional argument will be `data`, and passing other arguments without an explicit keyword will result in an error or misinterpretation.\n",
      "  warnings.warn(\n"
     ]
    },
    {
     "data": {
      "text/plain": [
       "Text(0.5, 1.0, 'Outliers for vote_counts')"
      ]
     },
     "execution_count": 14,
     "metadata": {},
     "output_type": "execute_result"
    },
    {
     "data": {
      "image/png": "[encoded data removed]",
      "text/plain": [
       "<Figure size 432x288 with 1 Axes>"
      ]
     },
     "metadata": {
      "needs_background": "light"
     },
     "output_type": "display_data"
    }
   ],
   "source": [
    "sb.boxplot(outliers)\n",
    "plt.title('Outliers for vote_counts')"
   ]
  },
  {
   "cell_type": "markdown",
   "id": "145c3146",
   "metadata": {},
   "source": [
    "According to my visualiation, there are big outlier from ~4000 to 30000"
   ]
  },
  {
   "cell_type": "markdown",
   "id": "f87dba11",
   "metadata": {},
   "source": [
    "### 5.3 Plot two barcharts in the same figure. For one of them get number of vote_average, and for another get vote_count.\n",
    "Here I've counted the vote_average and vote_count columns"
   ]
  },
  {
   "cell_type": "code",
   "execution_count": 15,
   "id": "a8b0633d",
   "metadata": {},
   "outputs": [],
   "source": [
    "df1 = df[['vote_average','vote_count']]\n",
    "vote_a = df1['vote_average'].value_counts()\n",
    "vote_c = df1['vote_count'].value_counts()"
   ]
  },
  {
   "cell_type": "code",
   "execution_count": 16,
   "id": "b26bf660",
   "metadata": {},
   "outputs": [
    {
     "data": {
      "text/plain": [
       "[Text(0.5, 0, 'number of films'), Text(0, 0.5, 'count of vote')]"
      ]
     },
     "execution_count": 16,
     "metadata": {},
     "output_type": "execute_result"
    },
    {
     "data": {
      "image/png": "[encoded data removed]",
      "text/plain": [
       "<Figure size 1800x1080 with 2 Axes>"
      ]
     },
     "metadata": {
      "needs_background": "light"
     },
     "output_type": "display_data"
    }
   ],
   "source": [
    "fig, axs = plt.subplots(nrows=1, ncols=2, figsize=(25,15))\n",
    "\n",
    "output2 = []\n",
    "for x in df1['vote_average']:\n",
    "    if x not in output2:\n",
    "        output2.append(x)\n",
    "        \n",
    "output3 = []\n",
    "for x in df1['vote_count']:\n",
    "    if x not in output3:\n",
    "        output3.append(x)\n",
    "\n",
    "axs[0].bar(output2, vote_a, align='center')\n",
    "axs[1].bar(vote_c, output3, align = 'center')\n",
    "\n",
    "axs[0].set(xlabel = 'average vote', ylabel = 'number of average vote')\n",
    "axs[1].set(xlabel = 'number of films', ylabel = 'count of vote')"
   ]
  },
  {
   "cell_type": "markdown",
   "id": "ff8ed2e8",
   "metadata": {},
   "source": [
    "As you can see, 1)A lot of movies have average vote from 6-10, 2) only less than 50 movies have a lot of votings"
   ]
  },
  {
   "cell_type": "markdown",
   "id": "883e63e2",
   "metadata": {},
   "source": [
    "### 5.4 Find the correlation between popularity, vote_count and vote_average\n",
    "Here I wanted to know correlation between 3 columns."
   ]
  },
  {
   "cell_type": "code",
   "execution_count": 17,
   "id": "030c3dae",
   "metadata": {},
   "outputs": [],
   "source": [
    "correlation = df[['popularity','vote_average','vote_count']].corr(method = 'pearson')"
   ]
  },
  {
   "cell_type": "code",
   "execution_count": 18,
   "id": "718f96f9",
   "metadata": {},
   "outputs": [
    {
     "data": {
      "text/html": [
       "<style  type=\"text/css\" >\n",
       "#T_f3af5_row0_col0,#T_f3af5_row1_col1,#T_f3af5_row2_col2{\n",
       "            background-color:  #b40426;\n",
       "            color:  #f1f1f1;\n",
       "        }#T_f3af5_row0_col1,#T_f3af5_row0_col2,#T_f3af5_row1_col0{\n",
       "            background-color:  #3b4cc0;\n",
       "            color:  #f1f1f1;\n",
       "        }#T_f3af5_row1_col2{\n",
       "            background-color:  #6687ed;\n",
       "            color:  #000000;\n",
       "        }#T_f3af5_row2_col0{\n",
       "            background-color:  #516ddb;\n",
       "            color:  #000000;\n",
       "        }#T_f3af5_row2_col1{\n",
       "            background-color:  #7da0f9;\n",
       "            color:  #000000;\n",
       "        }</style><table id=\"T_f3af5_\" ><thead>    <tr>        <th class=\"blank level0\" ></th>        <th class=\"col_heading level0 col0\" >popularity</th>        <th class=\"col_heading level0 col1\" >vote_average</th>        <th class=\"col_heading level0 col2\" >vote_count</th>    </tr></thead><tbody>\n",
       "                <tr>\n",
       "                        <th id=\"T_f3af5_level0_row0\" class=\"row_heading level0 row0\" >popularity</th>\n",
       "                        <td id=\"T_f3af5_row0_col0\" class=\"data row0 col0\" >1.000000</td>\n",
       "                        <td id=\"T_f3af5_row0_col1\" class=\"data row0 col1\" >0.054727</td>\n",
       "                        <td id=\"T_f3af5_row0_col2\" class=\"data row0 col2\" >0.127122</td>\n",
       "            </tr>\n",
       "            <tr>\n",
       "                        <th id=\"T_f3af5_level0_row1\" class=\"row_heading level0 row1\" >vote_average</th>\n",
       "                        <td id=\"T_f3af5_row1_col0\" class=\"data row1 col0\" >0.054727</td>\n",
       "                        <td id=\"T_f3af5_row1_col1\" class=\"data row1 col1\" >1.000000</td>\n",
       "                        <td id=\"T_f3af5_row1_col2\" class=\"data row1 col2\" >0.247391</td>\n",
       "            </tr>\n",
       "            <tr>\n",
       "                        <th id=\"T_f3af5_level0_row2\" class=\"row_heading level0 row2\" >vote_count</th>\n",
       "                        <td id=\"T_f3af5_row2_col0\" class=\"data row2 col0\" >0.127122</td>\n",
       "                        <td id=\"T_f3af5_row2_col1\" class=\"data row2 col1\" >0.247391</td>\n",
       "                        <td id=\"T_f3af5_row2_col2\" class=\"data row2 col2\" >1.000000</td>\n",
       "            </tr>\n",
       "    </tbody></table>"
      ],
      "text/plain": [
       "<pandas.io.formats.style.Styler at 0x282cb819820>"
      ]
     },
     "execution_count": 18,
     "metadata": {},
     "output_type": "execute_result"
    }
   ],
   "source": [
    "correlation.style.background_gradient(cmap='coolwarm')"
   ]
  },
  {
   "cell_type": "markdown",
   "id": "ddb0292b",
   "metadata": {},
   "source": [
    "### 5.5 Find the most popular movies by their language and find popular movies of every decade of 21st century. Plot it into two barcharts\n",
    "First, I grouped original_language column and get max value of popularity for every language\n",
    "Second, I have created a new columns, year and century, to calculate the decade of every century.\n",
    "In the end, i grouped century and decade columns and get maximum value of popularity in 21st century"
   ]
  },
  {
   "cell_type": "code",
   "execution_count": 19,
   "id": "2a7333b1",
   "metadata": {},
   "outputs": [
    {
     "data": {
      "text/plain": [
       "century  decade\n",
       "21       1          387.777\n",
       "         2         1212.352\n",
       "         3         5401.308\n",
       "Name: popularity, dtype: float64"
      ]
     },
     "execution_count": 19,
     "metadata": {},
     "output_type": "execute_result"
    }
   ],
   "source": [
    "#5\n",
    "lang_id1 = df.groupby('original_language').popularity.max()\n",
    "#popular movies of every decade(century)\n",
    "df['year'] = pd.DatetimeIndex(df['release_date']).year\n",
    "df['year'] = df['year'].astype(int)\n",
    "df['century'] = (df['year']/100+1).astype(int)\n",
    "df['decade'] = ((df['year']%100)/10+1).astype('int')\n",
    "popul_decade = df.groupby(['century','decade']).popularity.max()[9:12]\n",
    "popul_decade"
   ]
  },
  {
   "cell_type": "code",
   "execution_count": 20,
   "id": "c48924b9",
   "metadata": {},
   "outputs": [
    {
     "data": {
      "text/plain": [
       "[Text(0.5, 0, 'decades'), Text(0, 0.5, 'popularity')]"
      ]
     },
     "execution_count": 20,
     "metadata": {},
     "output_type": "execute_result"
    },
    {
     "data": {
      "image/png": "[encoded data removed]",
      "text/plain": [
       "<Figure size 1080x504 with 2 Axes>"
      ]
     },
     "metadata": {
      "needs_background": "light"
     },
     "output_type": "display_data"
    }
   ],
   "source": [
    "fig, axs = plt.subplots(nrows=2, ncols=1, figsize=(15,7))\n",
    "\n",
    "output4 = []\n",
    "for x in sorted(df['original_language'].unique()):\n",
    "    if x not in output4:\n",
    "        output4.append(x)\n",
    "        \n",
    "output5 = [1,2,3]\n",
    "\n",
    "\n",
    "axs[0].bar(output4, lang_id1, align='center')\n",
    "axs[1].bar(output5, popul_decade, align = 'center')\n",
    "\n",
    "axs[0].set(xlabel = 'languages',ylabel = 'popularity')\n",
    "axs[1].set(xlabel = 'decades', ylabel = 'popularity')\n",
    "\n"
   ]
  },
  {
   "cell_type": "markdown",
   "id": "78d7ea9e",
   "metadata": {},
   "source": [
    "In first barchart, we can see that English movies are very popular, in second barchart we can understand that very popular movies were realased in 3rd decade"
   ]
  },
  {
   "cell_type": "markdown",
   "id": "61f80b84",
   "metadata": {},
   "source": [
    "### 5.6 Find less popular movies of every decade in 20th century \n",
    "Using the values of above question, I grouped century and decade columns and find out minimum values for popularity"
   ]
  },
  {
   "cell_type": "code",
   "execution_count": 21,
   "id": "b83b5de5",
   "metadata": {},
   "outputs": [
    {
     "data": {
      "text/plain": [
       "century  decade\n",
       "20       1         12.469\n",
       "         3          6.325\n",
       "         4          7.782\n",
       "         5          7.298\n",
       "         6          6.338\n",
       "         7          6.441\n",
       "         8          6.766\n",
       "         9          6.696\n",
       "         10         6.463\n",
       "Name: popularity, dtype: float64"
      ]
     },
     "execution_count": 21,
     "metadata": {},
     "output_type": "execute_result"
    }
   ],
   "source": [
    "unpopul_decade = df.groupby(['century','decade']).popularity.min()[0:9]\n",
    "unpopul_decade"
   ]
  },
  {
   "cell_type": "code",
   "execution_count": 22,
   "id": "48c2ff4a",
   "metadata": {},
   "outputs": [
    {
     "data": {
      "text/plain": [
       "Text(0.5, 1.0, 'Nonpopular films of 20th century')"
      ]
     },
     "execution_count": 22,
     "metadata": {},
     "output_type": "execute_result"
    },
    {
     "data": {
      "image/png": "[encoded data removed]",
      "text/plain": [
       "<Figure size 1080x1080 with 1 Axes>"
      ]
     },
     "metadata": {
      "needs_background": "light"
     },
     "output_type": "display_data"
    }
   ],
   "source": [
    "fig, ax = plt.subplots(figsize=(15,15))\n",
    "decade = [1,3,4,5,6,7,8,9,10]\n",
    "ax.scatter(decade,unpopul_decade)\n",
    "ax.set(xlabel = 'decades', ylabel = 'popularity')\n",
    "plt.title('Nonpopular films of 20th century')"
   ]
  },
  {
   "cell_type": "markdown",
   "id": "f824e245",
   "metadata": {},
   "source": [
    "Using the scatterplot, I made this visualization, and it is clear that very nonpopular movie is in 3rd decade of 20th century"
   ]
  },
  {
   "cell_type": "markdown",
   "id": "3db9ad89",
   "metadata": {},
   "source": [
    "### 5.7 Find out in which month movies are most often released\n",
    "In this task I've created new column, month, and used it to group and count number of films to find the frequency of films in each month"
   ]
  },
  {
   "cell_type": "code",
   "execution_count": 23,
   "id": "9f9e2df6",
   "metadata": {},
   "outputs": [],
   "source": [
    "df['month'] = pd.DatetimeIndex(df['release_date']).month\n",
    "movies_often = df.groupby('month').id.count()"
   ]
  },
  {
   "cell_type": "code",
   "execution_count": 24,
   "id": "5ad7952a",
   "metadata": {},
   "outputs": [
    {
     "name": "stderr",
     "output_type": "stream",
     "text": [
      "C:\\Users\\abdre\\anaconda3\\lib\\site-packages\\seaborn\\_decorators.py:36: FutureWarning: Pass the following variables as keyword args: x, y. From version 0.12, the only valid positional argument will be `data`, and passing other arguments without an explicit keyword will result in an error or misinterpretation.\n",
      "  warnings.warn(\n"
     ]
    },
    {
     "data": {
      "text/plain": [
       "[Text(0.5, 0, 'month'), Text(0, 0.5, 'number of films')]"
      ]
     },
     "execution_count": 24,
     "metadata": {},
     "output_type": "execute_result"
    },
    {
     "data": {
      "image/png": "[encoded data removed]",
      "text/plain": [
       "<Figure size 432x288 with 1 Axes>"
      ]
     },
     "metadata": {
      "needs_background": "light"
     },
     "output_type": "display_data"
    }
   ],
   "source": [
    "month = [1,2,3,4,5,6,7,8,9,10,11,12]\n",
    "my_plot = sb.stripplot(month, movies_often)\n",
    "my_plot.set(xlabel = 'month', ylabel = 'number of films' )"
   ]
  },
  {
   "cell_type": "markdown",
   "id": "ead5cb82",
   "metadata": {},
   "source": [
    "Using seaborn's stripplot, it is clear that 9 and 10th months are very frequent months for the release of films"
   ]
  },
  {
   "cell_type": "markdown",
   "id": "f87dba11",
   "metadata": {},
   "source": [
    "### 5.8 Count the number of genres and plot it\n",
    "Here using the library ast, I have used function literal_eval to count each unique genre in the whole dataset."
   ]
  },
  {
   "cell_type": "code",
   "execution_count": 34,
   "id": "ffae192e",
   "metadata": {},
   "outputs": [
    {
     "data": {
      "text/html": [
       "<div>\n",
       "<style scoped>\n",
       "    .dataframe tbody tr th:only-of-type {\n",
       "        vertical-align: middle;\n",
       "    }\n",
       "\n",
       "    .dataframe tbody tr th {\n",
       "        vertical-align: top;\n",
       "    }\n",
       "\n",
       "    .dataframe thead th {\n",
       "        text-align: right;\n",
       "    }\n",
       "</style>\n",
       "<table border=\"1\" class=\"dataframe\">\n",
       "  <thead>\n",
       "    <tr style=\"text-align: right;\">\n",
       "      <th></th>\n",
       "      <th>index</th>\n",
       "      <th>genre</th>\n",
       "    </tr>\n",
       "  </thead>\n",
       "  <tbody>\n",
       "    <tr>\n",
       "      <th>0</th>\n",
       "      <td>Drama</td>\n",
       "      <td>3819</td>\n",
       "    </tr>\n",
       "    <tr>\n",
       "      <th>1</th>\n",
       "      <td>Comedy</td>\n",
       "      <td>3004</td>\n",
       "    </tr>\n",
       "    <tr>\n",
       "      <th>2</th>\n",
       "      <td>Action</td>\n",
       "      <td>2565</td>\n",
       "    </tr>\n",
       "    <tr>\n",
       "      <th>3</th>\n",
       "      <td>Thriller</td>\n",
       "      <td>2549</td>\n",
       "    </tr>\n",
       "    <tr>\n",
       "      <th>4</th>\n",
       "      <td>Adventure</td>\n",
       "      <td>1753</td>\n",
       "    </tr>\n",
       "    <tr>\n",
       "      <th>5</th>\n",
       "      <td>Horror</td>\n",
       "      <td>1538</td>\n",
       "    </tr>\n",
       "    <tr>\n",
       "      <th>6</th>\n",
       "      <td>Romance</td>\n",
       "      <td>1410</td>\n",
       "    </tr>\n",
       "    <tr>\n",
       "      <th>7</th>\n",
       "      <td>Family</td>\n",
       "      <td>1362</td>\n",
       "    </tr>\n",
       "    <tr>\n",
       "      <th>8</th>\n",
       "      <td>Animation</td>\n",
       "      <td>1360</td>\n",
       "    </tr>\n",
       "    <tr>\n",
       "      <th>9</th>\n",
       "      <td>Science Fiction</td>\n",
       "      <td>1265</td>\n",
       "    </tr>\n",
       "    <tr>\n",
       "      <th>10</th>\n",
       "      <td>Fantasy</td>\n",
       "      <td>1254</td>\n",
       "    </tr>\n",
       "    <tr>\n",
       "      <th>11</th>\n",
       "      <td>Crime</td>\n",
       "      <td>1239</td>\n",
       "    </tr>\n",
       "    <tr>\n",
       "      <th>12</th>\n",
       "      <td>Mystery</td>\n",
       "      <td>808</td>\n",
       "    </tr>\n",
       "    <tr>\n",
       "      <th>13</th>\n",
       "      <td>History</td>\n",
       "      <td>405</td>\n",
       "    </tr>\n",
       "    <tr>\n",
       "      <th>14</th>\n",
       "      <td>Documentary</td>\n",
       "      <td>304</td>\n",
       "    </tr>\n",
       "    <tr>\n",
       "      <th>15</th>\n",
       "      <td>Music</td>\n",
       "      <td>299</td>\n",
       "    </tr>\n",
       "    <tr>\n",
       "      <th>16</th>\n",
       "      <td>War</td>\n",
       "      <td>272</td>\n",
       "    </tr>\n",
       "    <tr>\n",
       "      <th>17</th>\n",
       "      <td>TV Movie</td>\n",
       "      <td>242</td>\n",
       "    </tr>\n",
       "    <tr>\n",
       "      <th>18</th>\n",
       "      <td>Western</td>\n",
       "      <td>126</td>\n",
       "    </tr>\n",
       "  </tbody>\n",
       "</table>\n",
       "</div>"
      ],
      "text/plain": [
       "              index  genre\n",
       "0             Drama   3819\n",
       "1            Comedy   3004\n",
       "2            Action   2565\n",
       "3          Thriller   2549\n",
       "4         Adventure   1753\n",
       "5            Horror   1538\n",
       "6           Romance   1410\n",
       "7            Family   1362\n",
       "8         Animation   1360\n",
       "9   Science Fiction   1265\n",
       "10          Fantasy   1254\n",
       "11            Crime   1239\n",
       "12          Mystery    808\n",
       "13          History    405\n",
       "14      Documentary    304\n",
       "15            Music    299\n",
       "16              War    272\n",
       "17         TV Movie    242\n",
       "18          Western    126"
      ]
     },
     "execution_count": 34,
     "metadata": {},
     "output_type": "execute_result"
    }
   ],
   "source": [
    "from ast import literal_eval\n",
    "unique_genre = df.genre.apply(literal_eval).explode().value_counts().reset_index()\n",
    "unique_genre"
   ]
  },
  {
   "cell_type": "code",
   "execution_count": 26,
   "id": "28ad8e7b",
   "metadata": {},
   "outputs": [
    {
     "data": {
      "text/plain": [
       "Text(0.5, 1.0, 'Number of genres')"
      ]
     },
     "execution_count": 26,
     "metadata": {},
     "output_type": "execute_result"
    },
    {
     "data": {
      "image/png": "[encoded data removed]",
      "text/plain": [
       "<Figure size 432x288 with 1 Axes>"
      ]
     },
     "metadata": {
      "needs_background": "light"
     },
     "output_type": "display_data"
    }
   ],
   "source": [
    "ax = sb.barplot(x = 'genre', y = 'index', \n",
    "                  data = unique_genre, \n",
    "                  color = 'green')\n",
    "ax.set(xlabel='number of films', ylabel='genre')\n",
    "plt.title('Number of genres')"
   ]
  },
  {
   "cell_type": "markdown",
   "id": "ff8ed2e8",
   "metadata": {},
   "source": [
    "According to this barchart, I can easily say that Drama, Comedy and Action films are very popular genres in movies."
   ]
  },
  {
   "cell_type": "markdown",
   "id": "f87dba11",
   "metadata": {},
   "source": [
    "### 5.9 Find the most popular movie of 'Comedy' genre of every language\n",
    "Here I have created new column, isComedy, to understand is any films here comedy or not. And after it, I get only Comedy films."
   ]
  },
  {
   "cell_type": "code",
   "execution_count": 27,
   "id": "deb3e4ba",
   "metadata": {},
   "outputs": [
    {
     "data": {
      "text/html": [
       "<div>\n",
       "<style scoped>\n",
       "    .dataframe tbody tr th:only-of-type {\n",
       "        vertical-align: middle;\n",
       "    }\n",
       "\n",
       "    .dataframe tbody tr th {\n",
       "        vertical-align: top;\n",
       "    }\n",
       "\n",
       "    .dataframe thead th {\n",
       "        text-align: right;\n",
       "    }\n",
       "</style>\n",
       "<table border=\"1\" class=\"dataframe\">\n",
       "  <thead>\n",
       "    <tr style=\"text-align: right;\">\n",
       "      <th></th>\n",
       "      <th>original_language</th>\n",
       "      <th>isComedy</th>\n",
       "      <th>popularity</th>\n",
       "    </tr>\n",
       "  </thead>\n",
       "  <tbody>\n",
       "    <tr>\n",
       "      <th>5</th>\n",
       "      <td>cn</td>\n",
       "      <td>1.0</td>\n",
       "      <td>56.046</td>\n",
       "    </tr>\n",
       "    <tr>\n",
       "      <th>7</th>\n",
       "      <td>cs</td>\n",
       "      <td>1.0</td>\n",
       "      <td>17.437</td>\n",
       "    </tr>\n",
       "    <tr>\n",
       "      <th>9</th>\n",
       "      <td>da</td>\n",
       "      <td>1.0</td>\n",
       "      <td>38.398</td>\n",
       "    </tr>\n",
       "    <tr>\n",
       "      <th>11</th>\n",
       "      <td>de</td>\n",
       "      <td>1.0</td>\n",
       "      <td>93.729</td>\n",
       "    </tr>\n",
       "    <tr>\n",
       "      <th>14</th>\n",
       "      <td>en</td>\n",
       "      <td>1.0</td>\n",
       "      <td>1850.470</td>\n",
       "    </tr>\n",
       "    <tr>\n",
       "      <th>16</th>\n",
       "      <td>es</td>\n",
       "      <td>1.0</td>\n",
       "      <td>693.568</td>\n",
       "    </tr>\n",
       "    <tr>\n",
       "      <th>20</th>\n",
       "      <td>fi</td>\n",
       "      <td>1.0</td>\n",
       "      <td>10.148</td>\n",
       "    </tr>\n",
       "    <tr>\n",
       "      <th>22</th>\n",
       "      <td>fr</td>\n",
       "      <td>1.0</td>\n",
       "      <td>434.458</td>\n",
       "    </tr>\n",
       "    <tr>\n",
       "      <th>26</th>\n",
       "      <td>hi</td>\n",
       "      <td>1.0</td>\n",
       "      <td>53.676</td>\n",
       "    </tr>\n",
       "    <tr>\n",
       "      <th>29</th>\n",
       "      <td>id</td>\n",
       "      <td>1.0</td>\n",
       "      <td>45.089</td>\n",
       "    </tr>\n",
       "    <tr>\n",
       "      <th>32</th>\n",
       "      <td>it</td>\n",
       "      <td>1.0</td>\n",
       "      <td>75.424</td>\n",
       "    </tr>\n",
       "    <tr>\n",
       "      <th>34</th>\n",
       "      <td>ja</td>\n",
       "      <td>1.0</td>\n",
       "      <td>229.477</td>\n",
       "    </tr>\n",
       "    <tr>\n",
       "      <th>37</th>\n",
       "      <td>ko</td>\n",
       "      <td>1.0</td>\n",
       "      <td>189.962</td>\n",
       "    </tr>\n",
       "    <tr>\n",
       "      <th>44</th>\n",
       "      <td>nl</td>\n",
       "      <td>1.0</td>\n",
       "      <td>82.043</td>\n",
       "    </tr>\n",
       "    <tr>\n",
       "      <th>46</th>\n",
       "      <td>no</td>\n",
       "      <td>1.0</td>\n",
       "      <td>863.019</td>\n",
       "    </tr>\n",
       "    <tr>\n",
       "      <th>48</th>\n",
       "      <td>pl</td>\n",
       "      <td>1.0</td>\n",
       "      <td>957.866</td>\n",
       "    </tr>\n",
       "    <tr>\n",
       "      <th>50</th>\n",
       "      <td>pt</td>\n",
       "      <td>1.0</td>\n",
       "      <td>943.619</td>\n",
       "    </tr>\n",
       "    <tr>\n",
       "      <th>52</th>\n",
       "      <td>ro</td>\n",
       "      <td>1.0</td>\n",
       "      <td>22.707</td>\n",
       "    </tr>\n",
       "    <tr>\n",
       "      <th>54</th>\n",
       "      <td>ru</td>\n",
       "      <td>1.0</td>\n",
       "      <td>835.043</td>\n",
       "    </tr>\n",
       "    <tr>\n",
       "      <th>58</th>\n",
       "      <td>sv</td>\n",
       "      <td>1.0</td>\n",
       "      <td>45.139</td>\n",
       "    </tr>\n",
       "  </tbody>\n",
       "</table>\n",
       "</div>"
      ],
      "text/plain": [
       "   original_language  isComedy  popularity\n",
       "5                 cn       1.0      56.046\n",
       "7                 cs       1.0      17.437\n",
       "9                 da       1.0      38.398\n",
       "11                de       1.0      93.729\n",
       "14                en       1.0    1850.470\n",
       "16                es       1.0     693.568\n",
       "20                fi       1.0      10.148\n",
       "22                fr       1.0     434.458\n",
       "26                hi       1.0      53.676\n",
       "29                id       1.0      45.089\n",
       "32                it       1.0      75.424\n",
       "34                ja       1.0     229.477\n",
       "37                ko       1.0     189.962\n",
       "44                nl       1.0      82.043\n",
       "46                no       1.0     863.019\n",
       "48                pl       1.0     957.866\n",
       "50                pt       1.0     943.619\n",
       "52                ro       1.0      22.707\n",
       "54                ru       1.0     835.043\n",
       "58                sv       1.0      45.139"
      ]
     },
     "execution_count": 27,
     "metadata": {},
     "output_type": "execute_result"
    }
   ],
   "source": [
    "df['isComedy'] = df['genre'].str.contains('Comedy')\n",
    "df['isComedy'] = df['isComedy'].astype(int)\n",
    "comedy = df.groupby(['original_language','isComedy']).popularity.max().reset_index()[0:60]\n",
    "comedy1 = comedy.where(comedy.isComedy==1)\n",
    "comedy1 = comedy1.dropna()\n",
    "comedy1"
   ]
  },
  {
   "cell_type": "code",
   "execution_count": 28,
   "id": "627d7a38",
   "metadata": {},
   "outputs": [
    {
     "data": {
      "text/plain": [
       "Text(0.5, 1.0, 'most popular Comedy movies')"
      ]
     },
     "execution_count": 28,
     "metadata": {},
     "output_type": "execute_result"
    },
    {
     "data": {
      "image/png": "[encoded data removed]",
      "text/plain": [
       "<Figure size 1280x800 with 1 Axes>"
      ]
     },
     "metadata": {
      "needs_background": "light"
     },
     "output_type": "display_data"
    }
   ],
   "source": [
    "fig, ax = plt.subplots(figsize=(16,10), dpi= 80)\n",
    "ax.vlines(x=comedy1.original_language, ymin=0, ymax=comedy1.popularity, color='firebrick', alpha=0.7, linewidth=2)\n",
    "ax.scatter(x=comedy1.original_language, y=comedy1.popularity, s=75, color='firebrick', alpha=0.7)\n",
    "ax.set(xlabel = 'languages',ylabel = 'popularity')\n",
    "plt.title('most popular Comedy movies')"
   ]
  },
  {
   "cell_type": "markdown",
   "id": "ff8ed2e8",
   "metadata": {},
   "source": [
    "Most comedy films are, of course, English, and also in 2nd and 3rd places are Polish and Portuguese"
   ]
  },
  {
   "cell_type": "markdown",
   "id": "f87dba11",
   "metadata": {},
   "source": [
    "## 6 Conclusion\n",
    "In conclusion, I would like to say that it was quite hard to work with that big dataset, which contains 10.000 rows, movies from 1900 and till this day. However, using my knowledge from  lecturs, using 4 different libraries, I have created 9 interesting quesions(easy and hard) to answer then using pandas, numpy, seaborn and matplotlib libraries.\n",
    "According to 9 questions that I have answered, I realized the popular, nonpopular genres of 20,21st century, number of movies in different languages, correltion between popularity, vote_count and vote_average. Moreover, it is clear that in 21st century a lot of popular movies, so I think that it is connected with development of technologies, and in future there will be thousands of amazing films. \n",
    "p.s. However, classic films will never die."
   ]
  },
  {
   "cell_type": "markdown",
   "id": "9f5f3f0e",
   "metadata": {},
   "source": [
    "---\n",
    "\n",
    "## Evaluation form (Keep it!)\n",
    "\n",
    "| Project part | Mark     | Comment   \n",
    "|:-------:|:--------:|:----------------------\n",
    "| Introduction       |   5/5    |     To get full pint, you need to give brief background of your project and why it is interesting for you. \n",
    "| Data description       |   5/5    | To get full point, you provide description of your dataset, namely columns.\n",
    "| Research questions       |   5/5    | To get full point, you need to create at least 5 good, different, interseting questions. \n",
    "| Data prepartion       |   20/20    | To get full point, you need to show proficient skill in using pandas in the purpose of data preparation. \n",
    "| Data analysis and visualisation       |   30/30    | To get full point, you need to show proficient skill in using matplotlib or seaborn (or other libraries along with some pandas in the purpose of data visualisation and analysis. Also, you should commment all your graphs.\n",
    "| Conclusion       |   5/5    | To get full point, you need to write summary of your finding in general.\n",
    "| Structure and code       |   10/10    | To get full point, you need to write efficient code, and all the libraries should be properly used. Also, the whole project should be well structured. \n",
    "| Defense      |   20/20    | To get full point, students should properly present their projects during the defense and be able to answer questions from instructor.\n",
    "| Data modelling       |   5/5 (bonus)    | \n",
    "|**Total**|**100/100**  | \n"
   ]
  }
 ],
 "metadata": {
  "kernelspec": {
   "display_name": "Python 3 (ipykernel)",
   "language": "python",
   "name": "python3"
  },
  "language_info": {
   "codemirror_mode": {
    "name": "ipython",
    "version": 3
   },
   "file_extension": ".py",
   "mimetype": "text/x-python",
   "name": "python",
   "nbconvert_exporter": "python",
   "pygments_lexer": "ipython3",
   "version": "3.9.7"
  }
 },
 "nbformat": 4,
 "nbformat_minor": 5
}
